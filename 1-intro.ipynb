{
 "cells": [
  {
   "cell_type": "code",
   "execution_count": null,
   "metadata": {},
   "outputs": [],
   "source": [
    "import cv2 as cv\n",
    "import numpy as np\n",
    "import matplotlib.pyplot as plt"
   ]
  },
  {
   "cell_type": "code",
   "execution_count": null,
   "metadata": {},
   "outputs": [],
   "source": [
    "def show_image(img):\n",
    "    pass  # Use plt to show img (use cv.cvtColor if it is BGR)"
   ]
  },
  {
   "cell_type": "code",
   "execution_count": null,
   "metadata": {},
   "outputs": [],
   "source": [
    "def show_image(img):\n",
    "    assert img.dtype == np.uint8\n",
    "    assert len(img.shape) == 2 or (len(img.shape) == 3 and img.shape[2] == 3)\n",
    "    \n",
    "    if len(img.shape) == 2:\n",
    "        plt.imshow(img, cmap='gray')\n",
    "    else:\n",
    "        assert len(img.shape) == 3 and img.shape[2] == 3\n",
    "        plt.imshow(cv.cvtColor(img, cv.COLOR_BGR2RGB))"
   ]
  },
  {
   "cell_type": "code",
   "execution_count": null,
   "metadata": {},
   "outputs": [],
   "source": [
    "def read_image(path, is_grayscale=False):\n",
    "    pass  # Use cv to read an image (either BGR or Gray) and return it."
   ]
  },
  {
   "cell_type": "code",
   "execution_count": null,
   "metadata": {},
   "outputs": [],
   "source": [
    "def read_image(path, is_grayscale=False):\n",
    "\n",
    "    img = cv.imread(path, cv.IMREAD_GRAYSCALE if is_grayscale else cv.IMREAD_COLOR)\n",
    "    assert img is not None, f\"Failed to read image from {path}\"\n",
    "    return img"
   ]
  }
 ],
 "metadata": {
  "language_info": {
   "name": "python"
  },
  "orig_nbformat": 4
 },
 "nbformat": 4,
 "nbformat_minor": 2
}
